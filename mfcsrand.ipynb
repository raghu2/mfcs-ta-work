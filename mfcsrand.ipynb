{
 "cells": [
  {
   "cell_type": "code",
   "execution_count": 1,
   "metadata": {},
   "outputs": [],
   "source": [
    "import random\n",
    "import pandas as pd"
   ]
  },
  {
   "cell_type": "code",
   "execution_count": 26,
   "metadata": {},
   "outputs": [],
   "source": [
    "file = pd.read_excel('mfcs.xls')"
   ]
  },
  {
   "cell_type": "code",
   "execution_count": 27,
   "metadata": {},
   "outputs": [],
   "source": [
    "lista  = file.values.tolist()"
   ]
  },
  {
   "cell_type": "code",
   "execution_count": 29,
   "metadata": {},
   "outputs": [],
   "source": [
    "random.shuffle(lista)"
   ]
  },
  {
   "cell_type": "code",
   "execution_count": 30,
   "metadata": {},
   "outputs": [
    {
     "name": "stdout",
     "output_type": "stream",
     "text": [
      "[['19mcmc49'], ['19mcmc20'], ['19mcmc62'], ['19mcmc67'], ['19mcmc59'], ['19mcmc09'], ['19mcmc50'], ['19mcmc27'], ['19mcmc51'], ['19mcmc04'], ['19mcmc65'], ['19mcmc32'], ['18mcme09'], ['19mcmc66'], ['18mcme20'], ['19mcmc55'], ['19mcmc23'], ['19mcmc54'], ['19mcmc46'], ['19mcmc08'], ['19mcmc52'], ['19mcmc35'], ['19mcmc10'], ['19mcmc57'], ['19mcmc45'], ['18mcme21'], ['19mcmc11'], ['19mcmc22'], ['19mcmc16'], ['19mcmc43'], ['19mcmc17'], ['18mcme03'], ['18mcme01'], ['19mcmc40'], ['19mcmc60'], ['19mcmc44'], ['19mcmc61'], ['18mcme14'], ['19mcmc25'], ['18mcme17'], ['19mcmc39'], ['18mcme16'], ['19mcmc14'], ['18mcme15'], ['19mcmc03'], ['19mcmc30'], ['19mcmc41'], ['19mcmc21'], ['19mcmc38'], ['18mcme24'], ['19mcmc12'], ['19mcmc13'], ['18mcme13'], ['19mcmc07'], ['19mcmc28'], ['19mcmc33'], ['18mcme08'], ['19mcmc31'], ['19mcmc53'], ['19mcmc36'], ['18mcme04'], ['19mcmc29'], ['19mcmc63'], ['19mcmc02'], ['19mcmc42'], ['18mcme12'], ['19mcmc37'], ['19mcmc05'], ['19mcmc34'], ['19mcmc56'], ['19mcmc47'], ['18mcme18'], ['18mcme06'], ['18mcme23'], ['18mcme07'], ['18mcme11'], ['19mcmc06'], ['19mcmc18'], ['19mcmc15'], ['19mcmc64'], ['18mcme02'], ['19mcmc19'], ['18mcme22'], ['19mcmc58'], ['19mcmc24'], ['19mcmc01'], ['18mcme19'], ['18mcme05'], ['18mcme10'], ['19mcmc26'], ['19mcmc48']]\n"
     ]
    }
   ],
   "source": [
    "print(lista)"
   ]
  },
  {
   "cell_type": "code",
   "execution_count": null,
   "metadata": {},
   "outputs": [],
   "source": []
  }
 ],
 "metadata": {
  "kernelspec": {
   "display_name": "Python 3",
   "language": "python",
   "name": "python3"
  },
  "language_info": {
   "codemirror_mode": {
    "name": "ipython",
    "version": 3
   },
   "file_extension": ".py",
   "mimetype": "text/x-python",
   "name": "python",
   "nbconvert_exporter": "python",
   "pygments_lexer": "ipython3",
   "version": "3.5.2"
  }
 },
 "nbformat": 4,
 "nbformat_minor": 2
}
