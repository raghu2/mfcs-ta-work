{
 "cells": [
  {
   "cell_type": "code",
   "execution_count": 5,
   "metadata": {},
   "outputs": [],
   "source": [
    "import random"
   ]
  },
  {
   "cell_type": "code",
   "execution_count": 23,
   "metadata": {},
   "outputs": [],
   "source": [
    "mfcslt20 = [\"19mcmc05\", \"19mcmc11\", \"19mcmc13\", \"19mcmc17\", \"19mcmc18\", \"19mcmc19\", \"19mcmc21\", \"19mcmc29\", \n",
    "            \"19mcmc31\", \"19mcmc32\", \"19mcmc33\", \"19mcmc34\", \"19mcmc35\", \"19mcmc38\", \"19mcmc42\", \"19mcmc54\",\n",
    "            \"19mcmc58\", \"19mcmc59\", \"19mcmc60\", \"19mcmc63\", \"19mcmc64\", \"19mcmc65\", \"19mcmc66\", \"19mcmc70\",\n",
    "            \"19mcmc71\", \"19mcmc72\", \"19mcmc75\"]\n",
    "\n",
    "mfcsgt20 = [\"19mcmc02\", \"19mcmc03\", \"19mcmc04\", \"19mcmc08\", \"19mcmc09\", \"19mcmc14\", \"19mcmc15\", \"19mcmc20\",\n",
    "            \"19mcmc26\", \"19mcmc27\", \"19mcmc28\", \"19mcmc39\", \"19mcmc40\", \"19mcmc43\", \"19mcmc44\", \"19mcmc45\",\n",
    "            \"19mcmc48\", \"19mcmc49\", \"19mcmc51\", \"19mcmc52\", \"19mcmc57\", \"19mcmc61\", \"19mcmc67\", \"19mcmc69\",\n",
    "            \"19mcmc73\", \"19mcmc74\", \"19mcmc76\"]\n",
    "\n",
    "imtechlt20 = [\"18mcme01\", \"18mcme05\", \"18mcme06\", \"18mcme08\", \"18mcme20\"]\n",
    "\n",
    "imtechgt20 = [\"18mcme04\", \"18mcme07\", \"18mcme10\", \"18mcme13\", \"18mcme14\", \"18mcme16\", \"18mcme17\", \"18mcme18\",\n",
    "              \"18mcme19\", \"18mcme21\"]"
   ]
  },
  {
   "cell_type": "code",
   "execution_count": 24,
   "metadata": {},
   "outputs": [],
   "source": [
    "random.shuffle(mfcslt20)\n",
    "random.shuffle(mfcsgt20)\n",
    "random.shuffle(imtechlt20)\n",
    "random.shuffle(imtechgt20)"
   ]
  },
  {
   "cell_type": "code",
   "execution_count": 22,
   "metadata": {},
   "outputs": [
    {
     "data": {
      "text/plain": [
       "['19mcmc35',\n",
       " '19mcmc32',\n",
       " '19mcmc58',\n",
       " '19mcmc66',\n",
       " '19mcmc71',\n",
       " '19mcmc64',\n",
       " '19mcmc31',\n",
       " '19mcmc42',\n",
       " '19mcmc05',\n",
       " '19mcmc13',\n",
       " '19mcmc17',\n",
       " '19mcmc63',\n",
       " '19mcmc54',\n",
       " '19mcmc65',\n",
       " '19mcmc11',\n",
       " '19mcmc21',\n",
       " '19mcmc75',\n",
       " '19mcmc70',\n",
       " '19mcmc19',\n",
       " '19mcmc72',\n",
       " '19mcmc18',\n",
       " '19mcmc34',\n",
       " '19mcmc38',\n",
       " '19mcmc29',\n",
       " '19mcmc59',\n",
       " '19mcmc60',\n",
       " '19mcmc33']"
      ]
     },
     "execution_count": 22,
     "metadata": {},
     "output_type": "execute_result"
    }
   ],
   "source": [
    "mfcslt20"
   ]
  },
  {
   "cell_type": "markdown",
   "metadata": {},
   "source": []
  },
  {
   "cell_type": "code",
   "execution_count": 25,
   "metadata": {},
   "outputs": [
    {
     "data": {
      "text/plain": [
       "['19mcmc44',\n",
       " '19mcmc28',\n",
       " '19mcmc20',\n",
       " '19mcmc52',\n",
       " '19mcmc02',\n",
       " '19mcmc14',\n",
       " '19mcmc09',\n",
       " '19mcmc48',\n",
       " '19mcmc40',\n",
       " '19mcmc45',\n",
       " '19mcmc27',\n",
       " '19mcmc39',\n",
       " '19mcmc67',\n",
       " '19mcmc76',\n",
       " '19mcmc04',\n",
       " '19mcmc61',\n",
       " '19mcmc69',\n",
       " '19mcmc51',\n",
       " '19mcmc73',\n",
       " '19mcmc08',\n",
       " '19mcmc43',\n",
       " '19mcmc74',\n",
       " '19mcmc26',\n",
       " '19mcmc49',\n",
       " '19mcmc57',\n",
       " '19mcmc03',\n",
       " '19mcmc15']"
      ]
     },
     "execution_count": 25,
     "metadata": {},
     "output_type": "execute_result"
    }
   ],
   "source": [
    "mfcsgt20\n"
   ]
  },
  {
   "cell_type": "code",
   "execution_count": 26,
   "metadata": {},
   "outputs": [
    {
     "data": {
      "text/plain": [
       "['18mcme08', '18mcme01', '18mcme20', '18mcme06', '18mcme05']"
      ]
     },
     "execution_count": 26,
     "metadata": {},
     "output_type": "execute_result"
    }
   ],
   "source": [
    "imtechlt20"
   ]
  },
  {
   "cell_type": "code",
   "execution_count": 27,
   "metadata": {},
   "outputs": [
    {
     "data": {
      "text/plain": [
       "['18mcme19',\n",
       " '18mcme10',\n",
       " '18mcme14',\n",
       " '18mcme04',\n",
       " '18mcme18',\n",
       " '18mcme13',\n",
       " '18mcme16',\n",
       " '18mcme17',\n",
       " '18mcme21',\n",
       " '18mcme07']"
      ]
     },
     "execution_count": 27,
     "metadata": {},
     "output_type": "execute_result"
    }
   ],
   "source": [
    "imtechgt20"
   ]
  },
  {
   "cell_type": "code",
   "execution_count": null,
   "metadata": {},
   "outputs": [],
   "source": []
  }
 ],
 "metadata": {
  "kernelspec": {
   "display_name": "Python 3",
   "language": "python",
   "name": "python3"
  },
  "language_info": {
   "codemirror_mode": {
    "name": "ipython",
    "version": 3
   },
   "file_extension": ".py",
   "mimetype": "text/x-python",
   "name": "python",
   "nbconvert_exporter": "python",
   "pygments_lexer": "ipython3",
   "version": "3.5.2"
  }
 },
 "nbformat": 4,
 "nbformat_minor": 2
}
